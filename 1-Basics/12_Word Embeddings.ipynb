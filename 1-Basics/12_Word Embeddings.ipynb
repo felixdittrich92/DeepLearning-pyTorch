{
 "cells": [
  {
   "cell_type": "markdown",
   "metadata": {},
   "source": [
    "## Word Embeddings"
   ]
  },
  {
   "cell_type": "code",
   "execution_count": 1,
   "metadata": {},
   "outputs": [],
   "source": [
    "import torch\n",
    "import torch.nn as nn\n",
    "import torch.nn.functional as F\n",
    "import torch.optim as optim"
   ]
  },
  {
   "cell_type": "code",
   "execution_count": 5,
   "metadata": {
    "tags": []
   },
   "outputs": [
    {
     "output_type": "stream",
     "name": "stdout",
     "text": "tensor([1])\n"
    }
   ],
   "source": [
    "#The indices of the words represent the values in the lookup table\n",
    "word_to_idx = {\"I\": 0, \"love\": 1, \"eating\":2, \"and\":3, \"sleeping\":4}\n",
    "embeddings = nn.Embedding(5, 7)    # 5 words in vocab, embedding size is 7\n",
    "word_index = torch.tensor([word_to_idx[\"love\"]])\n",
    "print(word_index)"
   ]
  },
  {
   "cell_type": "code",
   "execution_count": 6,
   "metadata": {
    "tags": []
   },
   "outputs": [
    {
     "output_type": "stream",
     "name": "stdout",
     "text": "tensor([[-0.2359,  0.6844,  0.6780,  0.2297, -2.3219, -1.2708,  2.8252]],\n       grad_fn=<EmbeddingBackward>)\ntorch.Size([1, 7])\n"
    }
   ],
   "source": [
    "love = embeddings(word_index)\n",
    "print(love)\n",
    "print(love.shape)"
   ]
  },
  {
   "cell_type": "code",
   "execution_count": 7,
   "metadata": {
    "tags": []
   },
   "outputs": [
    {
     "output_type": "stream",
     "name": "stdout",
     "text": "tensor([0, 1, 2, 3, 4])\ntensor([[ 0.4366, -1.7802, -0.8577, -1.9313,  0.1442, -1.4793,  0.4688],\n        [-0.2359,  0.6844,  0.6780,  0.2297, -2.3219, -1.2708,  2.8252],\n        [-1.0484, -0.0323,  1.3816,  0.6635, -0.0879, -0.6409, -0.8855],\n        [ 1.9287, -0.8252,  1.3496,  0.6733, -0.1352,  0.1526,  0.7974],\n        [-0.2229, -2.2388, -1.5800,  0.1623,  0.3447,  0.4005,  1.5951]],\n       grad_fn=<EmbeddingBackward>)\ntorch.Size([5, 7])\n"
    }
   ],
   "source": [
    "all_ind = torch.tensor([w for w in range(5)], dtype = torch.long)\n",
    "all_words = embeddings(all_ind)\n",
    "print(all_ind)\n",
    "print(all_words)\n",
    "print(all_words.shape)"
   ]
  },
  {
   "cell_type": "markdown",
   "metadata": {},
   "source": [
    "## Exercise: N-Gram Skip Model\n",
    "### Given a sequence of words, we want to predict the ith word of the sequence: P(w(i)|w(i-1), w(i-2), .....)\n",
    "#### Source: https://pytorch.org/tutorials/beginner/nlp/word_embeddings_tutorial.html#an-example-n-gram-language-modeling  \n"
   ]
  }
 ],
 "metadata": {
  "kernelspec": {
   "display_name": "Python 3",
   "language": "python",
   "name": "python3"
  },
  "language_info": {
   "codemirror_mode": {
    "name": "ipython",
    "version": 3
   },
   "file_extension": ".py",
   "mimetype": "text/x-python",
   "name": "python",
   "nbconvert_exporter": "python",
   "pygments_lexer": "ipython3",
   "version": "3.7.7-final"
  }
 },
 "nbformat": 4,
 "nbformat_minor": 2
}