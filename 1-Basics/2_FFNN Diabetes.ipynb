{
 "cells": [
  {
   "cell_type": "code",
   "execution_count": 39,
   "metadata": {},
   "outputs": [],
   "source": [
    "import numpy as np\n",
    "import torch\n",
    "import torch.nn as nn\n",
    "import pandas as pd\n",
    "from sklearn.preprocessing import StandardScaler\n",
    "from torch.utils.data import Dataset"
   ]
  },
  {
   "cell_type": "code",
   "execution_count": 40,
   "metadata": {},
   "outputs": [],
   "source": [
    "# Load the dataset using Pandas\n",
    "data = pd.read_csv('../data/diabetes.csv')"
   ]
  },
  {
   "cell_type": "code",
   "execution_count": 41,
   "metadata": {},
   "outputs": [],
   "source": [
    "# For x: Extract out the dataset from all the rows (all samples) and all columns except last column (all features). \n",
    "# For y: Extract out the last column (which is the label)\n",
    "# Convert both to numpy using the .values method\n",
    "x = data.iloc[:,0:-1].values\n",
    "y_string= list(data.iloc[:,-1])"
   ]
  },
  {
   "cell_type": "code",
   "execution_count": 42,
   "metadata": {
    "tags": []
   },
   "outputs": [
    {
     "output_type": "stream",
     "name": "stdout",
     "text": "[[  6.  148.   72.   35.    0.   33.6  50. ]\n [  1.   85.   66.   29.    0.   26.6  31. ]\n [  8.  183.   64.    0.    0.   23.3  32. ]]\n['positive', 'negative', 'positive']\n"
    }
   ],
   "source": [
    "# Lets have a look some samples from our data\n",
    "print(x[:3])\n",
    "print(y_string[:3])"
   ]
  },
  {
   "cell_type": "code",
   "execution_count": 43,
   "metadata": {},
   "outputs": [],
   "source": [
    "# Our neural network only understand numbers! So convert the string to labels\n",
    "y_int = []\n",
    "for string in y_string:\n",
    "    if string == 'positive':\n",
    "        y_int.append(1)\n",
    "    else:\n",
    "        y_int.append(0)"
   ]
  },
  {
   "cell_type": "code",
   "execution_count": 44,
   "metadata": {},
   "outputs": [],
   "source": [
    "# Now convert to an array\n",
    "y = np.array(y_int, dtype = 'float64')"
   ]
  },
  {
   "cell_type": "markdown",
   "metadata": {},
   "source": [
    "### $x^{\\prime}=\\frac{x-\\mu}{\\sigma}$"
   ]
  },
  {
   "cell_type": "code",
   "execution_count": 45,
   "metadata": {
    "tags": []
   },
   "outputs": [
    {
     "output_type": "stream",
     "name": "stdout",
     "text": "(768, 7)\n[[ 0.63994726  0.84832379  0.14964075  0.90726993 -0.69289057  0.20401277\n   1.4259954 ]\n [-0.84488505 -1.12339636 -0.16054575  0.53090156 -0.69289057 -0.68442195\n  -0.19067191]\n [ 1.23388019  1.94372388 -0.26394125 -1.28821221 -0.69289057 -1.10325546\n  -0.10558415]]\n"
    }
   ],
   "source": [
    "# Feature Normalization. All features should have the same range of values (-1,1)\n",
    "sc = StandardScaler()\n",
    "x = sc.fit_transform(x)\n",
    "print(x.shape)\n",
    "print(x[0:3])"
   ]
  },
  {
   "cell_type": "code",
   "execution_count": 46,
   "metadata": {},
   "outputs": [],
   "source": [
    "# Now we convert the arrays to PyTorch tensors\n",
    "x = torch.tensor(x)\n",
    "# We add an extra dimension to convert this array to 2D\n",
    "y = torch.tensor(y).unsqueeze(1)"
   ]
  },
  {
   "cell_type": "code",
   "execution_count": 47,
   "metadata": {
    "tags": []
   },
   "outputs": [
    {
     "output_type": "stream",
     "name": "stdout",
     "text": "torch.Size([768, 7])\ntorch.Size([768, 1])\n"
    }
   ],
   "source": [
    "print(x.shape)\n",
    "print(y.shape)"
   ]
  },
  {
   "cell_type": "code",
   "execution_count": 48,
   "metadata": {},
   "outputs": [],
   "source": [
    "class Dataset(Dataset):\n",
    "\n",
    "    def __init__(self,x,y):\n",
    "        self.x = x\n",
    "        self.y = y\n",
    "        \n",
    "    def __getitem__(self,index):\n",
    "        # Get one item from the dataset\n",
    "        return self.x[index], self.y[index]\n",
    "    \n",
    "    def __len__(self):\n",
    "        return len(self.x)"
   ]
  },
  {
   "cell_type": "code",
   "execution_count": 49,
   "metadata": {},
   "outputs": [],
   "source": [
    "dataset = Dataset(x,y)"
   ]
  },
  {
   "cell_type": "code",
   "execution_count": 50,
   "metadata": {},
   "outputs": [
    {
     "output_type": "execute_result",
     "data": {
      "text/plain": "768"
     },
     "metadata": {},
     "execution_count": 50
    }
   ],
   "source": [
    "len(dataset)"
   ]
  },
  {
   "cell_type": "code",
   "execution_count": 51,
   "metadata": {},
   "outputs": [],
   "source": [
    "# Load the data to your dataloader for batch processing and shuffling\n",
    "train_loader = torch.utils.data.DataLoader(dataset=dataset,\n",
    "                                           batch_size=32,\n",
    "                                           shuffle=True)"
   ]
  },
  {
   "cell_type": "code",
   "execution_count": 52,
   "metadata": {
    "tags": []
   },
   "outputs": [
    {
     "output_type": "stream",
     "name": "stdout",
     "text": "There is 24 batches in the dataset\nFor one iteration (batch), there is:\nData:    torch.Size([32, 7])\nLabels:  torch.Size([32, 1])\n"
    }
   ],
   "source": [
    "# Let's have a look at the data loader\n",
    "print(\"There is {} batches in the dataset\".format(len(train_loader)))\n",
    "for (x,y) in train_loader:\n",
    "    print(\"For one iteration (batch), there is:\")\n",
    "    print(\"Data:    {}\".format(x.shape))\n",
    "    print(\"Labels:  {}\".format(y.shape))\n",
    "    break"
   ]
  },
  {
   "cell_type": "markdown",
   "metadata": {},
   "source": [
    "![demo](https://user-images.githubusercontent.com/30661597/60379583-246e5e80-9a68-11e9-8b7f-a4294234c201.png)"
   ]
  },
  {
   "cell_type": "code",
   "execution_count": 53,
   "metadata": {},
   "outputs": [],
   "source": [
    "# Now let's build the above network\n",
    "class Model(nn.Module):\n",
    "    def __init__(self, input_features):\n",
    "        super(Model, self).__init__()\n",
    "        self.fc1 = nn.Linear(input_features, 5)\n",
    "        self.fc2 = nn.Linear(5, 4)\n",
    "        self.fc3 = nn.Linear(4, 3)\n",
    "        self.fc4 = nn.Linear(3, 1)\n",
    "        self.sigmoid = nn.Sigmoid()\n",
    "        self.tanh = nn.Tanh()\n",
    "        \n",
    "    # Forward pass\n",
    "    def forward(self, x):\n",
    "        out = self.fc1(x)\n",
    "        out = self.tanh(out)\n",
    "        out = self.fc2(out)\n",
    "        out = self.tanh(out)\n",
    "        out = self.fc3(out)\n",
    "        out = self.tanh(out)\n",
    "        out = self.fc4(out)\n",
    "        out = self.sigmoid(out)\n",
    "        return out"
   ]
  },
  {
   "cell_type": "markdown",
   "metadata": {},
   "source": [
    "$H_{p}(q)=-\\frac{1}{N} \\sum_{i=1}^{N} y_{i} \\cdot \\log \\left(p\\left(y_{i}\\right)\\right)+\\left(1-y_{i}\\right) \\cdot \\log \\left(1-p\\left(y_{i}\\right)\\right)$\n",
    "\n",
    "\n",
    "cost = -(Y * torch.log(hypothesis) + (1 - Y) * torch.log(1 - hypothesis)).mean()"
   ]
  },
  {
   "cell_type": "code",
   "execution_count": 56,
   "metadata": {
    "tags": []
   },
   "outputs": [
    {
     "output_type": "stream",
     "name": "stdout",
     "text": "<generator object Module.parameters at 0x7ff516c78bd0>\n"
    }
   ],
   "source": [
    "# Create the network (an object of the Net class)\n",
    "model = Model(x.shape[1]) # 7\n",
    "print(model.register_parameter)\n",
    "#In Binary Cross Entropy: the input and output should have the same shape \n",
    "#size_average = True --> the losses are averaged over observations for each minibatch\n",
    "criterion = torch.nn.BCELoss(size_average=True)   \n",
    "# We will use SGD with momentum with a learning rate of 0.1\n",
    "optimizer = torch.optim.SGD(model.parameters(), lr=0.1, momentum=0.9)"
   ]
  },
  {
   "cell_type": "code",
   "execution_count": 55,
   "metadata": {
    "tags": []
   },
   "outputs": [
    {
     "output_type": "stream",
     "name": "stdout",
     "text": "Epoch 1/200, Loss: 0.639, Accuracy: 0.625\nEpoch 2/200, Loss: 0.547, Accuracy: 0.688\nEpoch 3/200, Loss: 0.493, Accuracy: 0.750\nEpoch 4/200, Loss: 0.472, Accuracy: 0.719\nEpoch 5/200, Loss: 0.495, Accuracy: 0.688\nEpoch 6/200, Loss: 0.477, Accuracy: 0.781\nEpoch 7/200, Loss: 0.395, Accuracy: 0.844\nEpoch 8/200, Loss: 0.339, Accuracy: 0.906\nEpoch 9/200, Loss: 0.535, Accuracy: 0.719\nEpoch 10/200, Loss: 0.541, Accuracy: 0.719\nEpoch 11/200, Loss: 0.444, Accuracy: 0.812\nEpoch 12/200, Loss: 0.568, Accuracy: 0.719\nEpoch 13/200, Loss: 0.679, Accuracy: 0.594\nEpoch 14/200, Loss: 0.465, Accuracy: 0.750\nEpoch 15/200, Loss: 0.510, Accuracy: 0.781\nEpoch 16/200, Loss: 0.556, Accuracy: 0.688\nEpoch 17/200, Loss: 0.309, Accuracy: 0.875\nEpoch 18/200, Loss: 0.417, Accuracy: 0.812\nEpoch 19/200, Loss: 0.349, Accuracy: 0.875\nEpoch 20/200, Loss: 0.419, Accuracy: 0.750\nEpoch 21/200, Loss: 0.469, Accuracy: 0.781\nEpoch 22/200, Loss: 0.390, Accuracy: 0.844\nEpoch 23/200, Loss: 0.606, Accuracy: 0.656\nEpoch 24/200, Loss: 0.388, Accuracy: 0.812\nEpoch 25/200, Loss: 0.334, Accuracy: 0.938\nEpoch 26/200, Loss: 0.399, Accuracy: 0.812\nEpoch 27/200, Loss: 0.790, Accuracy: 0.594\nEpoch 28/200, Loss: 0.635, Accuracy: 0.719\nEpoch 29/200, Loss: 0.412, Accuracy: 0.750\nEpoch 30/200, Loss: 0.425, Accuracy: 0.781\nEpoch 31/200, Loss: 0.591, Accuracy: 0.719\nEpoch 32/200, Loss: 0.506, Accuracy: 0.719\nEpoch 33/200, Loss: 0.410, Accuracy: 0.781\nEpoch 34/200, Loss: 0.251, Accuracy: 0.906\nEpoch 35/200, Loss: 0.543, Accuracy: 0.688\nEpoch 36/200, Loss: 0.483, Accuracy: 0.719\nEpoch 37/200, Loss: 0.397, Accuracy: 0.812\nEpoch 38/200, Loss: 0.452, Accuracy: 0.625\nEpoch 39/200, Loss: 0.593, Accuracy: 0.781\nEpoch 40/200, Loss: 0.328, Accuracy: 0.844\nEpoch 41/200, Loss: 0.393, Accuracy: 0.906\nEpoch 42/200, Loss: 0.295, Accuracy: 0.812\nEpoch 43/200, Loss: 0.267, Accuracy: 0.906\nEpoch 44/200, Loss: 0.460, Accuracy: 0.688\nEpoch 45/200, Loss: 0.343, Accuracy: 0.844\nEpoch 46/200, Loss: 0.421, Accuracy: 0.719\nEpoch 47/200, Loss: 0.410, Accuracy: 0.812\nEpoch 48/200, Loss: 0.419, Accuracy: 0.781\nEpoch 49/200, Loss: 0.470, Accuracy: 0.719\nEpoch 50/200, Loss: 0.192, Accuracy: 0.969\nEpoch 51/200, Loss: 0.513, Accuracy: 0.750\nEpoch 52/200, Loss: 0.379, Accuracy: 0.938\nEpoch 53/200, Loss: 0.454, Accuracy: 0.781\nEpoch 54/200, Loss: 0.374, Accuracy: 0.781\nEpoch 55/200, Loss: 0.366, Accuracy: 0.781\nEpoch 56/200, Loss: 0.272, Accuracy: 0.812\nEpoch 57/200, Loss: 0.439, Accuracy: 0.812\nEpoch 58/200, Loss: 0.399, Accuracy: 0.750\nEpoch 59/200, Loss: 0.293, Accuracy: 0.906\nEpoch 60/200, Loss: 0.444, Accuracy: 0.750\nEpoch 61/200, Loss: 0.468, Accuracy: 0.688\nEpoch 62/200, Loss: 0.353, Accuracy: 0.812\nEpoch 63/200, Loss: 0.303, Accuracy: 0.844\nEpoch 64/200, Loss: 0.416, Accuracy: 0.812\nEpoch 65/200, Loss: 0.662, Accuracy: 0.594\nEpoch 66/200, Loss: 0.378, Accuracy: 0.781\nEpoch 67/200, Loss: 0.351, Accuracy: 0.781\nEpoch 68/200, Loss: 0.432, Accuracy: 0.719\nEpoch 69/200, Loss: 0.505, Accuracy: 0.844\nEpoch 70/200, Loss: 0.360, Accuracy: 0.906\nEpoch 71/200, Loss: 0.492, Accuracy: 0.844\nEpoch 72/200, Loss: 0.236, Accuracy: 0.875\nEpoch 73/200, Loss: 0.443, Accuracy: 0.812\nEpoch 74/200, Loss: 0.412, Accuracy: 0.781\nEpoch 75/200, Loss: 0.591, Accuracy: 0.750\nEpoch 76/200, Loss: 0.334, Accuracy: 0.844\nEpoch 77/200, Loss: 0.338, Accuracy: 0.906\nEpoch 78/200, Loss: 0.420, Accuracy: 0.750\nEpoch 79/200, Loss: 0.314, Accuracy: 0.844\nEpoch 80/200, Loss: 0.416, Accuracy: 0.781\nEpoch 81/200, Loss: 0.557, Accuracy: 0.844\nEpoch 82/200, Loss: 0.419, Accuracy: 0.781\nEpoch 83/200, Loss: 0.488, Accuracy: 0.781\nEpoch 84/200, Loss: 0.486, Accuracy: 0.750\nEpoch 85/200, Loss: 0.416, Accuracy: 0.750\nEpoch 86/200, Loss: 0.502, Accuracy: 0.750\nEpoch 87/200, Loss: 0.338, Accuracy: 0.812\nEpoch 88/200, Loss: 0.565, Accuracy: 0.719\nEpoch 89/200, Loss: 0.495, Accuracy: 0.719\nEpoch 90/200, Loss: 0.383, Accuracy: 0.812\nEpoch 91/200, Loss: 0.427, Accuracy: 0.844\nEpoch 92/200, Loss: 0.427, Accuracy: 0.750\nEpoch 93/200, Loss: 0.409, Accuracy: 0.750\nEpoch 94/200, Loss: 0.446, Accuracy: 0.781\nEpoch 95/200, Loss: 0.470, Accuracy: 0.781\nEpoch 96/200, Loss: 0.333, Accuracy: 0.844\nEpoch 97/200, Loss: 0.445, Accuracy: 0.656\nEpoch 98/200, Loss: 0.387, Accuracy: 0.781\nEpoch 99/200, Loss: 0.631, Accuracy: 0.781\nEpoch 100/200, Loss: 0.721, Accuracy: 0.688\nEpoch 101/200, Loss: 0.406, Accuracy: 0.844\nEpoch 102/200, Loss: 0.446, Accuracy: 0.688\nEpoch 103/200, Loss: 0.211, Accuracy: 0.938\nEpoch 104/200, Loss: 0.270, Accuracy: 0.875\nEpoch 105/200, Loss: 0.674, Accuracy: 0.719\nEpoch 106/200, Loss: 0.459, Accuracy: 0.750\nEpoch 107/200, Loss: 0.358, Accuracy: 0.844\nEpoch 108/200, Loss: 0.269, Accuracy: 0.906\nEpoch 109/200, Loss: 0.384, Accuracy: 0.812\nEpoch 110/200, Loss: 0.394, Accuracy: 0.750\nEpoch 111/200, Loss: 0.306, Accuracy: 0.844\nEpoch 112/200, Loss: 0.323, Accuracy: 0.844\nEpoch 113/200, Loss: 0.428, Accuracy: 0.781\nEpoch 114/200, Loss: 0.526, Accuracy: 0.688\nEpoch 115/200, Loss: 0.470, Accuracy: 0.750\nEpoch 116/200, Loss: 0.457, Accuracy: 0.812\nEpoch 117/200, Loss: 0.373, Accuracy: 0.781\nEpoch 118/200, Loss: 0.283, Accuracy: 0.844\nEpoch 119/200, Loss: 0.352, Accuracy: 0.875\nEpoch 120/200, Loss: 0.564, Accuracy: 0.719\nEpoch 121/200, Loss: 0.354, Accuracy: 0.781\nEpoch 122/200, Loss: 0.334, Accuracy: 0.812\nEpoch 123/200, Loss: 0.342, Accuracy: 0.812\nEpoch 124/200, Loss: 0.428, Accuracy: 0.844\nEpoch 125/200, Loss: 0.355, Accuracy: 0.875\nEpoch 126/200, Loss: 0.381, Accuracy: 0.781\nEpoch 127/200, Loss: 0.280, Accuracy: 0.844\nEpoch 128/200, Loss: 0.317, Accuracy: 0.812\nEpoch 129/200, Loss: 0.337, Accuracy: 0.844\nEpoch 130/200, Loss: 0.407, Accuracy: 0.812\nEpoch 131/200, Loss: 0.356, Accuracy: 0.844\nEpoch 132/200, Loss: 0.359, Accuracy: 0.875\nEpoch 133/200, Loss: 0.329, Accuracy: 0.875\nEpoch 134/200, Loss: 0.277, Accuracy: 0.875\nEpoch 135/200, Loss: 0.355, Accuracy: 0.844\nEpoch 136/200, Loss: 0.365, Accuracy: 0.844\nEpoch 137/200, Loss: 0.477, Accuracy: 0.844\nEpoch 138/200, Loss: 0.377, Accuracy: 0.750\nEpoch 139/200, Loss: 0.404, Accuracy: 0.781\nEpoch 140/200, Loss: 0.314, Accuracy: 0.812\nEpoch 141/200, Loss: 0.642, Accuracy: 0.656\nEpoch 142/200, Loss: 0.483, Accuracy: 0.781\nEpoch 143/200, Loss: 0.641, Accuracy: 0.656\nEpoch 144/200, Loss: 0.354, Accuracy: 0.812\nEpoch 145/200, Loss: 0.426, Accuracy: 0.719\nEpoch 146/200, Loss: 0.334, Accuracy: 0.781\nEpoch 147/200, Loss: 0.399, Accuracy: 0.812\nEpoch 148/200, Loss: 0.406, Accuracy: 0.875\nEpoch 149/200, Loss: 0.325, Accuracy: 0.875\nEpoch 150/200, Loss: 0.484, Accuracy: 0.688\nEpoch 151/200, Loss: 0.407, Accuracy: 0.781\nEpoch 152/200, Loss: 0.314, Accuracy: 0.906\nEpoch 153/200, Loss: 0.301, Accuracy: 0.781\nEpoch 154/200, Loss: 0.294, Accuracy: 0.906\nEpoch 155/200, Loss: 0.593, Accuracy: 0.781\nEpoch 156/200, Loss: 0.393, Accuracy: 0.781\nEpoch 157/200, Loss: 0.528, Accuracy: 0.781\nEpoch 158/200, Loss: 0.413, Accuracy: 0.781\nEpoch 159/200, Loss: 0.428, Accuracy: 0.844\nEpoch 160/200, Loss: 0.486, Accuracy: 0.719\nEpoch 161/200, Loss: 0.358, Accuracy: 0.750\nEpoch 162/200, Loss: 0.396, Accuracy: 0.719\nEpoch 163/200, Loss: 0.563, Accuracy: 0.625\nEpoch 164/200, Loss: 0.334, Accuracy: 0.875\nEpoch 165/200, Loss: 0.406, Accuracy: 0.812\nEpoch 166/200, Loss: 0.357, Accuracy: 0.750\nEpoch 167/200, Loss: 0.440, Accuracy: 0.781\nEpoch 168/200, Loss: 0.394, Accuracy: 0.750\nEpoch 169/200, Loss: 0.417, Accuracy: 0.812\nEpoch 170/200, Loss: 0.475, Accuracy: 0.750\nEpoch 171/200, Loss: 0.299, Accuracy: 0.844\nEpoch 172/200, Loss: 0.351, Accuracy: 0.812\nEpoch 173/200, Loss: 0.276, Accuracy: 0.875\nEpoch 174/200, Loss: 0.415, Accuracy: 0.812\nEpoch 175/200, Loss: 0.360, Accuracy: 0.844\nEpoch 176/200, Loss: 0.543, Accuracy: 0.750\nEpoch 177/200, Loss: 0.503, Accuracy: 0.750\nEpoch 178/200, Loss: 0.430, Accuracy: 0.719\nEpoch 179/200, Loss: 0.493, Accuracy: 0.844\nEpoch 180/200, Loss: 0.322, Accuracy: 0.875\nEpoch 181/200, Loss: 0.348, Accuracy: 0.875\nEpoch 182/200, Loss: 0.280, Accuracy: 0.906\nEpoch 183/200, Loss: 0.332, Accuracy: 0.781\nEpoch 184/200, Loss: 0.243, Accuracy: 0.906\nEpoch 185/200, Loss: 0.234, Accuracy: 0.875\nEpoch 186/200, Loss: 0.195, Accuracy: 0.969\nEpoch 187/200, Loss: 0.349, Accuracy: 0.906\nEpoch 188/200, Loss: 0.260, Accuracy: 0.875\nEpoch 189/200, Loss: 0.350, Accuracy: 0.812\nEpoch 190/200, Loss: 0.382, Accuracy: 0.750\nEpoch 191/200, Loss: 0.224, Accuracy: 0.875\nEpoch 192/200, Loss: 0.316, Accuracy: 0.906\nEpoch 193/200, Loss: 0.382, Accuracy: 0.812\nEpoch 194/200, Loss: 0.317, Accuracy: 0.875\nEpoch 195/200, Loss: 0.504, Accuracy: 0.750\nEpoch 196/200, Loss: 0.376, Accuracy: 0.812\nEpoch 197/200, Loss: 0.268, Accuracy: 0.938\nEpoch 198/200, Loss: 0.230, Accuracy: 0.938\nEpoch 199/200, Loss: 0.504, Accuracy: 0.750\nEpoch 200/200, Loss: 0.369, Accuracy: 0.812\n"
    }
   ],
   "source": [
    "# Train the network \n",
    "num_epochs = 200\n",
    "for epoch in range(num_epochs):\n",
    "    for inputs,labels in train_loader:\n",
    "        inputs = inputs.float()\n",
    "        labels = labels.float()\n",
    "        # Feed Forward\n",
    "        output = model(inputs)\n",
    "        # Loss Calculation\n",
    "        loss = criterion(output, labels)\n",
    "        # Clear the gradient buffer (we don't want to accumulate gradients)\n",
    "        optimizer.zero_grad()\n",
    "        # Backpropagation \n",
    "        loss.backward()\n",
    "        # Weight Update: w <-- w - lr * gradient\n",
    "        optimizer.step()\n",
    "        \n",
    "    #Accuracy\n",
    "    # Since we are using a sigmoid, we will need to perform some thresholding\n",
    "    output = (output>0.5).float()\n",
    "    # Accuracy: (output == labels).float().sum() / output.shape[0]\n",
    "    accuracy = (output == labels).float().mean()\n",
    "    # Print statistics \n",
    "    print(\"Epoch {}/{}, Loss: {:.3f}, Accuracy: {:.3f}\".format(epoch+1,num_epochs, loss, accuracy))"
   ]
  },
  {
   "cell_type": "code",
   "execution_count": null,
   "metadata": {},
   "outputs": [],
   "source": []
  }
 ],
 "metadata": {
  "kernelspec": {
   "display_name": "Python 3",
   "language": "python",
   "name": "python3"
  },
  "language_info": {
   "codemirror_mode": {
    "name": "ipython",
    "version": 3
   },
   "file_extension": ".py",
   "mimetype": "text/x-python",
   "name": "python",
   "nbconvert_exporter": "python",
   "pygments_lexer": "ipython3",
   "version": "3.7.7-final"
  }
 },
 "nbformat": 4,
 "nbformat_minor": 2
}