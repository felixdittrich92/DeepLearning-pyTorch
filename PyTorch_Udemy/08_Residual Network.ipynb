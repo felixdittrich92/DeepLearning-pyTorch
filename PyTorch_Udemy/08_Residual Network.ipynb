{
 "cells": [
  {
   "cell_type": "code",
   "execution_count": 1,
   "metadata": {},
   "outputs": [],
   "source": [
    "import torch\n",
    "import torch.nn as nn\n",
    "import torchvision\n",
    "import torchvision.transforms as transforms"
   ]
  },
  {
   "cell_type": "code",
   "execution_count": 2,
   "metadata": {
    "tags": []
   },
   "outputs": [
    {
     "output_type": "stream",
     "name": "stdout",
     "text": "Files already downloaded and verified\n"
    }
   ],
   "source": [
    "# Device configuration\n",
    "device = torch.device('cuda' if torch.cuda.is_available() else 'cpu')\n",
    "\n",
    "# Hyper-parameters\n",
    "num_epochs = 25\n",
    "batch_size = 100\n",
    "learning_rate = 0.001\n",
    "\n",
    "# Image preprocessing modules\n",
    "transform = transforms.Compose([\n",
    "    transforms.Pad(4),\n",
    "    transforms.RandomHorizontalFlip(),\n",
    "    transforms.RandomCrop(32),\n",
    "    transforms.ToTensor()])\n",
    "\n",
    "# CIFAR-10 dataset\n",
    "train_dataset = torchvision.datasets.CIFAR10(root='../../data/',\n",
    "                                             train=True, \n",
    "                                             transform=transform,\n",
    "                                             download=True)\n",
    "\n",
    "test_dataset = torchvision.datasets.CIFAR10(root='../../data/',\n",
    "                                            train=False, \n",
    "                                            transform=transforms.ToTensor())\n",
    "\n",
    "# Data loader\n",
    "train_loader = torch.utils.data.DataLoader(dataset=train_dataset,\n",
    "                                           batch_size=batch_size,\n",
    "                                           shuffle=True)\n",
    "\n",
    "test_loader = torch.utils.data.DataLoader(dataset=test_dataset,\n",
    "                                          batch_size=batch_size,\n",
    "                                          shuffle=False)"
   ]
  },
  {
   "cell_type": "markdown",
   "metadata": {},
   "source": [
    "![resnetimage](https://user-images.githubusercontent.com/30661597/78585170-f4ac7c80-786b-11ea-8b00-8b751c65f5ca.PNG)"
   ]
  },
  {
   "cell_type": "code",
   "execution_count": 7,
   "metadata": {},
   "outputs": [],
   "source": [
    "def conv3x3(in_channels, out_channels, stride=1):\n",
    "    return nn.Conv2d(in_channels, out_channels, kernel_size=3, stride=stride, padding=1, bias=False)\n",
    "\n",
    "class ResidualBlock(nn.Module):\n",
    "    def __init__(self, in_channels, out_channels, stride=1, downsample=None):\n",
    "        super(ResidualBlock, self).__init__()\n",
    "        self.conv1 = conv3x3(in_channels, out_channels, stride)\n",
    "        self.bn1 = nn.BatchNorm2d(out_channels)\n",
    "        self.relu = nn.ReLU(inplace=True)\n",
    "        self.conv2 = conv3x3(out_channels, out_channels)\n",
    "        self.bn2 = nn.BatchNorm2d(out_channels)\n",
    "        self.downsample = downsample\n",
    "        \n",
    "    def forward(self, x):\n",
    "        residual = x\n",
    "        out = self.conv1(x)\n",
    "        out = self.bn1(out)\n",
    "        out = self.relu(out)\n",
    "        out = self.conv2(out)\n",
    "        out = self.bn2(out)\n",
    "        if self.downsample:\n",
    "            residual = self.downsample(x)\n",
    "        out += residual\n",
    "        out = self.relu(out)\n",
    "        return out"
   ]
  },
  {
   "cell_type": "code",
   "execution_count": 8,
   "metadata": {},
   "outputs": [],
   "source": [
    "class ResNet(nn.Module):\n",
    "    def __init__(self, block, layers, num_classes=10):\n",
    "        super(ResNet, self).__init__()\n",
    "        self.in_channels = 16\n",
    "        self.conv = conv3x3(3, 16)\n",
    "        self.bn = nn.BatchNorm2d(16)\n",
    "        self.relu = nn.ReLU(inplace=True)\n",
    "        self.layer1 = self.make_layer(block, 16, layers[0], stride=1)\n",
    "        self.layer2 = self.make_layer(block, 32, layers[1], stride=2)\n",
    "        self.layer3 = self.make_layer(block, 64, layers[2], stride=2)\n",
    "        self.avg_pool = nn.AvgPool2d(8)\n",
    "        self.fc = nn.Linear(64, num_classes)\n",
    "        \n",
    "    def make_layer(self, block, out_channels, blocks, stride=1):\n",
    "        downsample = None\n",
    "        if (stride != 1) or (self.in_channels != out_channels):\n",
    "            downsample = nn.Sequential(conv3x3(self.in_channels, out_channels, stride=stride),\n",
    "                                       nn.BatchNorm2d(out_channels))\n",
    "        layers = []\n",
    "        layers.append(block(self.in_channels, out_channels, stride, downsample))\n",
    "        self.in_channels = out_channels\n",
    "        for i in range(1, blocks):\n",
    "            layers.append(block(out_channels, out_channels))\n",
    "        return nn.Sequential(*layers)\n",
    "    \n",
    "    def forward(self, x):\n",
    "        out = self.conv(x)\n",
    "        out = self.bn(out)\n",
    "        out = self.relu(out)\n",
    "        out = self.layer1(out)\n",
    "        out = self.layer2(out)\n",
    "        out = self.layer3(out)\n",
    "        out = self.avg_pool(out)\n",
    "        out = out.view(out.size(0), -1)\n",
    "        out = self.fc(out)\n",
    "        return out"
   ]
  },
  {
   "cell_type": "code",
   "execution_count": 5,
   "metadata": {},
   "outputs": [],
   "source": [
    "model = ResNet(ResidualBlock, [2, 2, 2]).to(device)\n",
    "criterion = nn.CrossEntropyLoss()\n",
    "optimizer = torch.optim.Adam(model.parameters(), lr=learning_rate)"
   ]
  },
  {
   "cell_type": "code",
   "execution_count": 9,
   "metadata": {
    "tags": []
   },
   "outputs": [
    {
     "output_type": "stream",
     "name": "stdout",
     "text": "Epoch [1/25], Step [100/500] Loss: 0.4734\nEpoch [1/25], Step [200/500] Loss: 0.1852\nEpoch [1/25], Step [300/500] Loss: 0.2663\nEpoch [1/25], Step [400/500] Loss: 0.2642\nEpoch [1/25], Step [500/500] Loss: 0.2577\nEpoch [2/25], Step [100/500] Loss: 0.4420\nEpoch [2/25], Step [200/500] Loss: 0.2076\nEpoch [2/25], Step [300/500] Loss: 0.3151\nEpoch [2/25], Step [400/500] Loss: 0.3477\nEpoch [2/25], Step [500/500] Loss: 0.2053\nEpoch [3/25], Step [100/500] Loss: 0.1881\nEpoch [3/25], Step [200/500] Loss: 0.3244\nEpoch [3/25], Step [300/500] Loss: 0.2420\nEpoch [3/25], Step [400/500] Loss: 0.3702\nEpoch [3/25], Step [500/500] Loss: 0.2537\nEpoch [4/25], Step [100/500] Loss: 0.2559\nEpoch [4/25], Step [200/500] Loss: 0.2291\nEpoch [4/25], Step [300/500] Loss: 0.2551\nEpoch [4/25], Step [400/500] Loss: 0.1492\nEpoch [4/25], Step [500/500] Loss: 0.1984\nEpoch [5/25], Step [100/500] Loss: 0.1882\nEpoch [5/25], Step [200/500] Loss: 0.2351\nEpoch [5/25], Step [300/500] Loss: 0.2652\nEpoch [5/25], Step [400/500] Loss: 0.2852\nEpoch [5/25], Step [500/500] Loss: 0.2654\nEpoch [6/25], Step [100/500] Loss: 0.1463\nEpoch [6/25], Step [200/500] Loss: 0.1581\nEpoch [6/25], Step [300/500] Loss: 0.3628\nEpoch [6/25], Step [400/500] Loss: 0.2647\nEpoch [6/25], Step [500/500] Loss: 0.1710\nEpoch [7/25], Step [100/500] Loss: 0.2549\nEpoch [7/25], Step [200/500] Loss: 0.2345\nEpoch [7/25], Step [300/500] Loss: 0.1665\nEpoch [7/25], Step [400/500] Loss: 0.1871\nEpoch [7/25], Step [500/500] Loss: 0.2479\nEpoch [8/25], Step [100/500] Loss: 0.1771\nEpoch [8/25], Step [200/500] Loss: 0.1757\nEpoch [8/25], Step [300/500] Loss: 0.1191\nEpoch [8/25], Step [400/500] Loss: 0.3056\nEpoch [8/25], Step [500/500] Loss: 0.2255\nEpoch [9/25], Step [100/500] Loss: 0.2498\nEpoch [9/25], Step [200/500] Loss: 0.3485\nEpoch [9/25], Step [300/500] Loss: 0.2275\nEpoch [9/25], Step [400/500] Loss: 0.3524\nEpoch [9/25], Step [500/500] Loss: 0.3553\nEpoch [10/25], Step [100/500] Loss: 0.2272\nEpoch [10/25], Step [200/500] Loss: 0.1658\nEpoch [10/25], Step [300/500] Loss: 0.4355\nEpoch [10/25], Step [400/500] Loss: 0.2230\nEpoch [10/25], Step [500/500] Loss: 0.3454\nEpoch [11/25], Step [100/500] Loss: 0.2502\nEpoch [11/25], Step [200/500] Loss: 0.3254\nEpoch [11/25], Step [300/500] Loss: 0.2190\nEpoch [11/25], Step [400/500] Loss: 0.1648\nEpoch [11/25], Step [500/500] Loss: 0.2204\nEpoch [12/25], Step [100/500] Loss: 0.1623\nEpoch [12/25], Step [200/500] Loss: 0.2040\nEpoch [12/25], Step [300/500] Loss: 0.1899\nEpoch [12/25], Step [400/500] Loss: 0.2280\nEpoch [12/25], Step [500/500] Loss: 0.2742\nEpoch [13/25], Step [100/500] Loss: 0.1406\nEpoch [13/25], Step [200/500] Loss: 0.2090\nEpoch [13/25], Step [300/500] Loss: 0.1928\nEpoch [13/25], Step [400/500] Loss: 0.2748\nEpoch [13/25], Step [500/500] Loss: 0.2396\nEpoch [14/25], Step [100/500] Loss: 0.2642\nEpoch [14/25], Step [200/500] Loss: 0.2309\nEpoch [14/25], Step [300/500] Loss: 0.3716\nEpoch [14/25], Step [400/500] Loss: 0.1916\nEpoch [14/25], Step [500/500] Loss: 0.2676\nEpoch [15/25], Step [100/500] Loss: 0.1460\nEpoch [15/25], Step [200/500] Loss: 0.2828\nEpoch [15/25], Step [300/500] Loss: 0.2173\nEpoch [15/25], Step [400/500] Loss: 0.2201\nEpoch [15/25], Step [500/500] Loss: 0.2081\nEpoch [16/25], Step [100/500] Loss: 0.2270\nEpoch [16/25], Step [200/500] Loss: 0.1619\nEpoch [16/25], Step [300/500] Loss: 0.5238\nEpoch [16/25], Step [400/500] Loss: 0.1991\nEpoch [16/25], Step [500/500] Loss: 0.1793\nEpoch [17/25], Step [100/500] Loss: 0.1641\nEpoch [17/25], Step [200/500] Loss: 0.2098\nEpoch [17/25], Step [300/500] Loss: 0.1640\nEpoch [17/25], Step [400/500] Loss: 0.1345\nEpoch [17/25], Step [500/500] Loss: 0.1910\nEpoch [18/25], Step [100/500] Loss: 0.1354\nEpoch [18/25], Step [200/500] Loss: 0.1735\nEpoch [18/25], Step [300/500] Loss: 0.1969\nEpoch [18/25], Step [400/500] Loss: 0.2557\nEpoch [18/25], Step [500/500] Loss: 0.2808\nEpoch [19/25], Step [100/500] Loss: 0.1662\nEpoch [19/25], Step [200/500] Loss: 0.2269\nEpoch [19/25], Step [300/500] Loss: 0.3743\nEpoch [19/25], Step [400/500] Loss: 0.1945\nEpoch [19/25], Step [500/500] Loss: 0.2958\nThe new learning rate is 0.0005\nEpoch [20/25], Step [100/500] Loss: 0.2349\nEpoch [20/25], Step [200/500] Loss: 0.1864\nEpoch [20/25], Step [300/500] Loss: 0.1867\nEpoch [20/25], Step [400/500] Loss: 0.2795\nEpoch [20/25], Step [500/500] Loss: 0.1741\nEpoch [21/25], Step [100/500] Loss: 0.2486\nEpoch [21/25], Step [200/500] Loss: 0.1756\nEpoch [21/25], Step [300/500] Loss: 0.1559\nEpoch [21/25], Step [400/500] Loss: 0.2017\nEpoch [21/25], Step [500/500] Loss: 0.1516\nEpoch [22/25], Step [100/500] Loss: 0.1520\nEpoch [22/25], Step [200/500] Loss: 0.1268\nEpoch [22/25], Step [300/500] Loss: 0.2596\nEpoch [22/25], Step [400/500] Loss: 0.1741\nEpoch [22/25], Step [500/500] Loss: 0.2169\nEpoch [23/25], Step [100/500] Loss: 0.2429\nEpoch [23/25], Step [200/500] Loss: 0.1480\nEpoch [23/25], Step [300/500] Loss: 0.2558\nEpoch [23/25], Step [400/500] Loss: 0.1623\nEpoch [23/25], Step [500/500] Loss: 0.1946\nEpoch [24/25], Step [100/500] Loss: 0.1768\nEpoch [24/25], Step [200/500] Loss: 0.1801\nEpoch [24/25], Step [300/500] Loss: 0.2076\nEpoch [24/25], Step [400/500] Loss: 0.1681\nEpoch [24/25], Step [500/500] Loss: 0.2371\nEpoch [25/25], Step [100/500] Loss: 0.4222\nEpoch [25/25], Step [200/500] Loss: 0.1554\nEpoch [25/25], Step [300/500] Loss: 0.1496\nEpoch [25/25], Step [400/500] Loss: 0.2461\nEpoch [25/25], Step [500/500] Loss: 0.2748\n"
    }
   ],
   "source": [
    "decay = 0\n",
    "model.train()\n",
    "for epoch in range(num_epochs):\n",
    "    \n",
    "    # Decay the learning rate every 20 epochs\n",
    "    if (epoch+1) % 20 == 0:\n",
    "        decay+=1\n",
    "        optimizer.param_groups[0]['lr'] = learning_rate * (0.5**decay)\n",
    "        print(\"The new learning rate is {}\".format(optimizer.param_groups[0]['lr']))\n",
    "        \n",
    "    for i, (images, labels) in enumerate(train_loader):\n",
    "        images = images.to(device)\n",
    "        labels = labels.to(device)\n",
    "        outputs = model(images)\n",
    "        loss = criterion(outputs, labels)\n",
    "        optimizer.zero_grad()\n",
    "        loss.backward()\n",
    "        optimizer.step()\n",
    "        \n",
    "        if (i+1) % 100 == 0:\n",
    "            print (\"Epoch [{}/{}], Step [{}/{}] Loss: {:.4f}\"\n",
    "                   .format(epoch+1, num_epochs, i+1, len(train_loader), loss.item()))"
   ]
  },
  {
   "cell_type": "code",
   "execution_count": 10,
   "metadata": {
    "tags": []
   },
   "outputs": [
    {
     "output_type": "stream",
     "name": "stdout",
     "text": "Accuracy of the model on the test images: 86.19 %\n"
    }
   ],
   "source": [
    "#Test the model\n",
    "model.eval()\n",
    "with torch.no_grad():\n",
    "    correct = 0\n",
    "    total = 0\n",
    "    for images, labels in test_loader:\n",
    "        images = images.to(device)\n",
    "        labels = labels.to(device)\n",
    "        outputs = model(images)\n",
    "        _, predicted = torch.max(outputs.data, 1)\n",
    "        total += labels.size(0)\n",
    "        correct += (predicted == labels).sum().item()\n",
    "\n",
    "    print('Accuracy of the model on the test images: {} %'.format(100 * correct / total))"
   ]
  },
  {
   "cell_type": "code",
   "execution_count": null,
   "metadata": {},
   "outputs": [],
   "source": []
  }
 ],
 "metadata": {
  "kernelspec": {
   "display_name": "Python 3",
   "language": "python",
   "name": "python3"
  },
  "language_info": {
   "codemirror_mode": {
    "name": "ipython",
    "version": 3
   },
   "file_extension": ".py",
   "mimetype": "text/x-python",
   "name": "python",
   "nbconvert_exporter": "python",
   "pygments_lexer": "ipython3",
   "version": "3.7.7-final"
  }
 },
 "nbformat": 4,
 "nbformat_minor": 2
}